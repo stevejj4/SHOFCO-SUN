{
  "cells": [
    {
      "cell_type": "markdown",
      "metadata": {
        "id": "view-in-github",
        "colab_type": "text"
      },
      "source": [
        "<a href=\"https://colab.research.google.com/github/stevejj4/SHOFCO-SUN/blob/master/DataCleaning.ipynb\" target=\"_parent\"><img src=\"https://colab.research.google.com/assets/colab-badge.svg\" alt=\"Open In Colab\"/></a>"
      ]
    },
    {
      "cell_type": "code",
      "execution_count": 7,
      "metadata": {
        "id": "6ndLREm_dQtJ"
      },
      "outputs": [],
      "source": [
        "from google.colab import auth #Authorizing google colab\n",
        "auth.authenticate_user()\n",
        "import gspread #credentials for google sheet\n",
        "from google.auth import default\n",
        "creds,_ = default()\n",
        "gc = gspread.authorize(creds) #Authorizing the connection\n",
        "import pandas as pd\n",
        "worksheet = gc.open('Nyando').sheet1 #defining the worksheet\n",
        "rows = worksheet.get_all_values() #getting all values in list of row\n",
        "df = pd.DataFrame(rows)\n",
        "df.columns = df.iloc[0] #creating columns name\n",
        "df = df.iloc[1:]"
      ]
    },
    {
      "cell_type": "code",
      "execution_count": 8,
      "metadata": {
        "colab": {
          "base_uri": "https://localhost:8080/"
        },
        "id": "RtV29ypAdx3q",
        "outputId": "1f0693c5-5b87-4072-c968-e368d2d3bfd4"
      },
      "outputs": [
        {
          "output_type": "stream",
          "name": "stdout",
          "text": [
            "    1. Group Name: 2. Facilitator Name            7. Ward  Count\n",
            "0          ACHAR A        David Maseno              Ahero     21\n",
            "1          ACHAR B        David Maseno              Ahero     13\n",
            "2    ACHAR WOMEN C        David Maseno              Ahero      3\n",
            "3         ACHEGO B      Pamella Atieno          East Kano     18\n",
            "4         ACHEGO C      Pamella Atieno          East Kano     16\n",
            "..             ...                 ...                ...    ...\n",
            "765  Young Wawidhi        Mercy Sabina          East Kano     11\n",
            "766         ZAWADI         Grace Ohuru             Kobura      4\n",
            "767         ZAWADI         Sophy Akoth             Kobura      3\n",
            "768   ZAWADI GROUP         Grace Ohuru  Kabonyo/Kanyagwal      8\n",
            "769    ZEBRA GROUP         Sophy Akoth             Kobura      8\n",
            "\n",
            "[770 rows x 4 columns]\n"
          ]
        }
      ],
      "source": [
        "Facilitator_check = df.groupby(['1. Group Name:', '2. Facilitator Name', '7. Ward']).size()\n",
        "# Convert the result to a DataFrame and reset the index\n",
        "Facilitator_summary = Facilitator_check.reset_index(name='Count')\n",
        "print(Facilitator_summary)"
      ]
    },
    {
      "cell_type": "code",
      "execution_count": 9,
      "metadata": {
        "colab": {
          "base_uri": "https://localhost:8080/"
        },
        "id": "WU3vglrohbgE",
        "outputId": "1ad7a17d-76cf-4e21-ecf8-3de110779c33"
      },
      "outputs": [
        {
          "output_type": "stream",
          "name": "stdout",
          "text": [
            "Ward Summary:\n",
            "    1. Group Name: 2. Facilitator Name  Unique Wards\n",
            "0          ACHAR A        David Maseno             1\n",
            "1          ACHAR B        David Maseno             1\n",
            "2    ACHAR WOMEN C        David Maseno             1\n",
            "3         ACHEGO B      Pamella Atieno             1\n",
            "4         ACHEGO C      Pamella Atieno             1\n",
            "..             ...                 ...           ...\n",
            "762  Young Wawidhi        Mercy Sabina             1\n",
            "763         ZAWADI         Grace Ohuru             1\n",
            "764         ZAWADI         Sophy Akoth             1\n",
            "765   ZAWADI GROUP         Grace Ohuru             1\n",
            "766    ZEBRA GROUP         Sophy Akoth             1\n",
            "\n",
            "[767 rows x 3 columns]\n",
            "\n",
            "Groups belonging to more than one ward:\n",
            "    1. Group Name: 2. Facilitator Name  Unique Wards\n",
            "432    NYARAKAKA A      Pamella Atieno             2\n",
            "649     TIN OK CHA     Pamela Odhiambo             2\n",
            "716  WACHO GI TIMO      Pamella Atieno             2\n",
            "\n",
            "Groups belonging to exactly one ward:\n",
            "    1. Group Name: 2. Facilitator Name  Unique Wards\n",
            "0          ACHAR A        David Maseno             1\n",
            "1          ACHAR B        David Maseno             1\n",
            "2    ACHAR WOMEN C        David Maseno             1\n",
            "3         ACHEGO B      Pamella Atieno             1\n",
            "4         ACHEGO C      Pamella Atieno             1\n",
            "..             ...                 ...           ...\n",
            "762  Young Wawidhi        Mercy Sabina             1\n",
            "763         ZAWADI         Grace Ohuru             1\n",
            "764         ZAWADI         Sophy Akoth             1\n",
            "765   ZAWADI GROUP         Grace Ohuru             1\n",
            "766    ZEBRA GROUP         Sophy Akoth             1\n",
            "\n",
            "[764 rows x 3 columns]\n"
          ]
        }
      ],
      "source": [
        "import pandas as pd\n",
        "\n",
        "def check_group_wards(dataframe, group_cols, ward_col):\n",
        "    \"\"\"\n",
        "    Check if groups belong to only one ward.\n",
        "\n",
        "    Parameters:\n",
        "    - dataframe (pd.DataFrame): The input DataFrame.\n",
        "    - group_cols (list): List of column names to group by (e.g., group name and facilitator).\n",
        "    - ward_col (str): The column name representing wards.\n",
        "\n",
        "    Returns:\n",
        "    - pd.DataFrame: Summary with unique ward counts for each group.\n",
        "    - pd.DataFrame: Groups belonging to more than one ward.\n",
        "    - pd.DataFrame: Groups belonging to exactly one ward.\n",
        "    \"\"\"\n",
        "    # Group and count unique wards\n",
        "    ward_check = dataframe.groupby(group_cols)[ward_col].nunique().reset_index()\n",
        "    ward_check.rename(columns={ward_col: 'Unique Wards'}, inplace=True)\n",
        "\n",
        "    # Groups with more than one ward\n",
        "    multiple_wards = ward_check[ward_check['Unique Wards'] > 1]\n",
        "\n",
        "    # Groups with exactly one ward\n",
        "    single_ward = ward_check[ward_check['Unique Wards'] == 1]\n",
        "\n",
        "    return ward_check, multiple_wards, single_ward\n",
        "\n",
        "# Example usage:\n",
        "# Assuming your DataFrame is named `df`\n",
        "group_cols = ['1. Group Name:', '2. Facilitator Name']\n",
        "ward_col = '7. Ward'\n",
        "\n",
        "# Call the function\n",
        "ward_summary, multiple_wards, single_wards = check_group_wards(df, group_cols, ward_col)\n",
        "\n",
        "# Display results\n",
        "print(\"Ward Summary:\")\n",
        "print(ward_summary)\n",
        "\n",
        "print(\"\\nGroups belonging to more than one ward:\")\n",
        "print(multiple_wards)\n",
        "\n",
        "print(\"\\nGroups belonging to exactly one ward:\")\n",
        "print(single_wards)\n"
      ]
    },
    {
      "cell_type": "code",
      "execution_count": 10,
      "metadata": {
        "colab": {
          "base_uri": "https://localhost:8080/"
        },
        "id": "W2qMjzy-shML",
        "outputId": "d77795d8-84e9-4f2b-e9c1-588e9eb60a81"
      },
      "outputs": [
        {
          "output_type": "stream",
          "name": "stdout",
          "text": [
            "Facilitator Summary:\n",
            "    1. Group Name:  Unique Facilitators\n",
            "0          ACHAR A                    1\n",
            "1          ACHAR B                    1\n",
            "2    ACHAR WOMEN C                    1\n",
            "3         ACHEGO B                    1\n",
            "4         ACHEGO C                    1\n",
            "..             ...                  ...\n",
            "554       Yie Geno                    4\n",
            "555  Young Wawidhi                    1\n",
            "556         ZAWADI                    2\n",
            "557   ZAWADI GROUP                    1\n",
            "558    ZEBRA GROUP                    1\n",
            "\n",
            "[559 rows x 2 columns]\n",
            "\n",
            "Groups belonging to more than one facilitator:\n",
            "                 1. Group Name:  Unique Facilitators\n",
            "6          ACHIEVERS NYAMKEBE A                    2\n",
            "10   AHERO MOTORCYCLE MECHANICS                    2\n",
            "17                AMANI KOBONGO                    2\n",
            "18                AMANI SUPPORT                    3\n",
            "19               AMANI UNITED A                    3\n",
            "..                          ...                  ...\n",
            "543        Wan Gi Yie Ni Timore                    2\n",
            "547                  YES WE CAN                    2\n",
            "548                 YIE GI TIMO                    2\n",
            "554                    Yie Geno                    4\n",
            "556                      ZAWADI                    2\n",
            "\n",
            "[151 rows x 2 columns]\n",
            "\n",
            "Groups belonging to exactly one facilitator:\n",
            "     1. Group Name:  Unique Facilitators\n",
            "0           ACHAR A                    1\n",
            "1           ACHAR B                    1\n",
            "2     ACHAR WOMEN C                    1\n",
            "3          ACHEGO B                    1\n",
            "4          ACHEGO C                    1\n",
            "..              ...                  ...\n",
            "552     YOUNG STARS                    1\n",
            "553  Yesu Nyalo SHG                    1\n",
            "555   Young Wawidhi                    1\n",
            "557    ZAWADI GROUP                    1\n",
            "558     ZEBRA GROUP                    1\n",
            "\n",
            "[408 rows x 2 columns]\n"
          ]
        }
      ],
      "source": [
        "def check_group_facilitators(dataframe, group_col, facilitator_col):\n",
        "    \"\"\"\n",
        "    Check if groups belong to only one facilitator.\n",
        "\n",
        "    Parameters:\n",
        "    - dataframe (pd.DataFrame): The input DataFrame.\n",
        "    - group_col (str): The column representing group names.\n",
        "    - facilitator_col (str): The column representing facilitators.\n",
        "\n",
        "    Returns:\n",
        "    - pd.DataFrame: Summary with unique facilitator counts for each group.\n",
        "    - pd.DataFrame: Groups belonging to more than one facilitator.\n",
        "    - pd.DataFrame: Groups belonging to exactly one facilitator.\n",
        "    \"\"\"\n",
        "    # Group and count unique facilitators\n",
        "    facilitator_check = dataframe.groupby(group_col)[facilitator_col].nunique().reset_index()\n",
        "    facilitator_check.rename(columns={facilitator_col: 'Unique Facilitators'}, inplace=True)\n",
        "\n",
        "    # Groups with more than one facilitator\n",
        "    multiple_facilitators = facilitator_check[facilitator_check['Unique Facilitators'] > 1]\n",
        "\n",
        "    # Groups with exactly one facilitator\n",
        "    single_facilitator = facilitator_check[facilitator_check['Unique Facilitators'] == 1]\n",
        "\n",
        "    return facilitator_check, multiple_facilitators, single_facilitator\n",
        "\n",
        "# Example usage:\n",
        "# Assuming your DataFrame is named `df`\n",
        "group_col = '1. Group Name:'\n",
        "facilitator_col = '2. Facilitator Name'\n",
        "\n",
        "# Call the function\n",
        "facilitator_summary, multiple_facilitators, single_facilitator = check_group_facilitators(df, group_col, facilitator_col)\n",
        "\n",
        "# Display results\n",
        "print(\"Facilitator Summary:\")\n",
        "print(facilitator_summary)\n",
        "\n",
        "print(\"\\nGroups belonging to more than one facilitator:\")\n",
        "print(multiple_facilitators)\n",
        "\n",
        "print(\"\\nGroups belonging to exactly one facilitator:\")\n",
        "print(single_facilitator)\n"
      ]
    },
    {
      "cell_type": "code",
      "execution_count": 11,
      "metadata": {
        "colab": {
          "base_uri": "https://localhost:8080/"
        },
        "id": "fkpwK3ULu5GG",
        "outputId": "80107131-89be-4160-fbf6-94f35393f410"
      },
      "outputs": [
        {
          "output_type": "stream",
          "name": "stdout",
          "text": [
            "Group Summary:\n",
            "    1. Group Name:  Unique_Wards  Unique_Facilitators\n",
            "0          ACHAR A             1                    1\n",
            "1          ACHAR B             1                    1\n",
            "2    ACHAR WOMEN C             1                    1\n",
            "3         ACHEGO B             1                    1\n",
            "4         ACHEGO C             1                    1\n",
            "..             ...           ...                  ...\n",
            "554       Yie Geno             1                    4\n",
            "555  Young Wawidhi             1                    1\n",
            "556         ZAWADI             1                    2\n",
            "557   ZAWADI GROUP             1                    1\n",
            "558    ZEBRA GROUP             1                    1\n",
            "\n",
            "[559 rows x 3 columns]\n",
            "\n",
            "Groups belonging to more than one ward and more than one facilitator:\n",
            "                 1. Group Name:  Unique_Wards  Unique_Facilitators\n",
            "10   AHERO MOTORCYCLE MECHANICS             2                    2\n",
            "63                  Bet Ok Miyi             2                    2\n",
            "267   Laja Kochieng Women Group             2                    2\n",
            "313                 NYARAKAKA A             2                    3\n",
            "463                    TEK PILE             2                    2\n",
            "476                  TIN OK CHA             2                    3\n",
            "477                  TIN TO LER             2                    2\n",
            "487                   Tabitha 2             2                    3\n",
            "519               WACHO GI TIMO             3                    5\n",
            "\n",
            "Groups belonging to exactly one ward and one facilitator:\n",
            "     1. Group Name:  Unique_Wards  Unique_Facilitators\n",
            "0           ACHAR A             1                    1\n",
            "1           ACHAR B             1                    1\n",
            "2     ACHAR WOMEN C             1                    1\n",
            "3          ACHEGO B             1                    1\n",
            "4          ACHEGO C             1                    1\n",
            "..              ...           ...                  ...\n",
            "552     YOUNG STARS             1                    1\n",
            "553  Yesu Nyalo SHG             1                    1\n",
            "555   Young Wawidhi             1                    1\n",
            "557    ZAWADI GROUP             1                    1\n",
            "558     ZEBRA GROUP             1                    1\n",
            "\n",
            "[408 rows x 3 columns]\n"
          ]
        }
      ],
      "source": [
        "def check_group_ward_facilitator(dataframe, group_col, ward_col, facilitator_col):\n",
        "    \"\"\"\n",
        "    Check if groups belong to more than one ward and more than one facilitator.\n",
        "\n",
        "    Parameters:\n",
        "    - dataframe (pd.DataFrame): The input DataFrame.\n",
        "    - group_col (str): The column representing group names.\n",
        "    - ward_col (str): The column representing wards.\n",
        "    - facilitator_col (str): The column representing facilitators.\n",
        "\n",
        "    Returns:\n",
        "    - pd.DataFrame: Summary with unique ward and facilitator counts for each group.\n",
        "    - pd.DataFrame: Groups belonging to more than one ward and more than one facilitator.\n",
        "    - pd.DataFrame: Groups belonging to exactly one ward and one facilitator.\n",
        "    \"\"\"\n",
        "    # Group by and count unique wards and facilitators\n",
        "    summary = dataframe.groupby(group_col).agg(\n",
        "        Unique_Wards=(ward_col, 'nunique'),\n",
        "        Unique_Facilitators=(facilitator_col, 'nunique')\n",
        "    ).reset_index()\n",
        "\n",
        "    # Groups with more than one ward and more than one facilitator\n",
        "    multiple_wards_facilitators = summary[\n",
        "        (summary['Unique_Wards'] > 1) & (summary['Unique_Facilitators'] > 1)\n",
        "    ]\n",
        "\n",
        "    # Groups with exactly one ward and one facilitator\n",
        "    single_ward_facilitator = summary[\n",
        "        (summary['Unique_Wards'] == 1) & (summary['Unique_Facilitators'] == 1)\n",
        "    ]\n",
        "\n",
        "    return summary, multiple_wards_facilitators, single_ward_facilitator\n",
        "\n",
        "# Example usage:\n",
        "# Assuming your DataFrame is named `df`\n",
        "group_col = '1. Group Name:'\n",
        "ward_col = '7. Ward'\n",
        "facilitator_col = '2. Facilitator Name'\n",
        "\n",
        "# Call the function\n",
        "summary, multiple_wards_facilitators, single_ward_facilitator = check_group_ward_facilitator(\n",
        "    df, group_col, ward_col, facilitator_col\n",
        ")\n",
        "\n",
        "# Display results\n",
        "print(\"Group Summary:\")\n",
        "print(summary)\n",
        "\n",
        "print(\"\\nGroups belonging to more than one ward and more than one facilitator:\")\n",
        "print(multiple_wards_facilitators)\n",
        "\n",
        "print(\"\\nGroups belonging to exactly one ward and one facilitator:\")\n",
        "print(single_ward_facilitator)\n"
      ]
    },
    {
      "cell_type": "code",
      "execution_count": 12,
      "metadata": {
        "colab": {
          "base_uri": "https://localhost:8080/",
          "height": 17
        },
        "id": "M6PAZcHYu72Z",
        "outputId": "bb6ecf8e-97b0-46e1-c7de-3b14e95881f7"
      },
      "outputs": [
        {
          "output_type": "display_data",
          "data": {
            "text/plain": [
              "<IPython.core.display.Javascript object>"
            ],
            "application/javascript": [
              "\n",
              "    async function download(id, filename, size) {\n",
              "      if (!google.colab.kernel.accessAllowed) {\n",
              "        return;\n",
              "      }\n",
              "      const div = document.createElement('div');\n",
              "      const label = document.createElement('label');\n",
              "      label.textContent = `Downloading \"${filename}\": `;\n",
              "      div.appendChild(label);\n",
              "      const progress = document.createElement('progress');\n",
              "      progress.max = size;\n",
              "      div.appendChild(progress);\n",
              "      document.body.appendChild(div);\n",
              "\n",
              "      const buffers = [];\n",
              "      let downloaded = 0;\n",
              "\n",
              "      const channel = await google.colab.kernel.comms.open(id);\n",
              "      // Send a message to notify the kernel that we're ready.\n",
              "      channel.send({})\n",
              "\n",
              "      for await (const message of channel.messages) {\n",
              "        // Send a message to notify the kernel that we're ready.\n",
              "        channel.send({})\n",
              "        if (message.buffers) {\n",
              "          for (const buffer of message.buffers) {\n",
              "            buffers.push(buffer);\n",
              "            downloaded += buffer.byteLength;\n",
              "            progress.value = downloaded;\n",
              "          }\n",
              "        }\n",
              "      }\n",
              "      const blob = new Blob(buffers, {type: 'application/binary'});\n",
              "      const a = document.createElement('a');\n",
              "      a.href = window.URL.createObjectURL(blob);\n",
              "      a.download = filename;\n",
              "      div.appendChild(a);\n",
              "      a.click();\n",
              "      div.remove();\n",
              "    }\n",
              "  "
            ]
          },
          "metadata": {}
        },
        {
          "output_type": "display_data",
          "data": {
            "text/plain": [
              "<IPython.core.display.Javascript object>"
            ],
            "application/javascript": [
              "download(\"download_efc0bd4e-91fd-459f-bd0f-bde8d0900247\", \"Facilitator_check.csv\", 32144)"
            ]
          },
          "metadata": {}
        }
      ],
      "source": [
        "# download facilitator_check\n",
        "Facilitator_summary.to_csv('Facilitator_check.csv', index=False)\n",
        "from google.colab import files\n",
        "files.download('Facilitator_check.csv')"
      ]
    }
  ],
  "metadata": {
    "colab": {
      "provenance": [],
      "authorship_tag": "ABX9TyPc/3K/grGwSWsHVWSbNkAr",
      "include_colab_link": true
    },
    "kernelspec": {
      "display_name": "Python 3",
      "name": "python3"
    },
    "language_info": {
      "name": "python"
    }
  },
  "nbformat": 4,
  "nbformat_minor": 0
}